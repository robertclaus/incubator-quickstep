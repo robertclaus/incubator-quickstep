{
 "cells": [
  {
   "cell_type": "heading",
   "metadata": {
    "collapsed": true
   },
   "level": 1,
   "source": [
    "Calculating Ancestors"
   ]
  },
  {
   "cell_type": "heading",
   "metadata": {},
   "level": 2,
   "source": [
    "Import Quickstep Network API"
   ]
  },
  {
   "cell_type": "code",
   "execution_count": null,
   "metadata": {},
   "outputs": [
    {
     "ename": "ImportError",
     "evalue": "No module named quickstep",
     "traceback": [
      "\u001b[0;31m---------------------------------------------------------------------------\u001b[0m",
      "\u001b[0;31mImportError\u001b[0m                               Traceback (most recent call last)",
      "\u001b[0;32m<ipython-input-1-2bd77b870942>\u001b[0m in \u001b[0;36m<module>\u001b[0;34m()\u001b[0m\n\u001b[0;32m----> 1\u001b[0;31m \u001b[0;32mimport\u001b[0m \u001b[0mquickstep\u001b[0m \u001b[0;32mas\u001b[0m \u001b[0mq\u001b[0m\u001b[0;34m\u001b[0m\u001b[0m\n\u001b[0m\u001b[1;32m      2\u001b[0m \u001b[0;34m\u001b[0m\u001b[0m\n\u001b[1;32m      3\u001b[0m relationships= [{'parent': \"Bob\", 'child': \"LittleBob\"},\n\u001b[1;32m      4\u001b[0m                 \u001b[0;34m{\u001b[0m\u001b[0;34m'parent'\u001b[0m\u001b[0;34m:\u001b[0m \u001b[0;34m\"LittleBob\"\u001b[0m\u001b[0;34m,\u001b[0m \u001b[0;34m'child'\u001b[0m\u001b[0;34m:\u001b[0m \u001b[0;34m\"LittlestBob\"\u001b[0m\u001b[0;34m}\u001b[0m\u001b[0;34m,\u001b[0m\u001b[0;34m\u001b[0m\u001b[0m\n\u001b[1;32m      5\u001b[0m                 \u001b[0;34m{\u001b[0m\u001b[0;34m'parent'\u001b[0m\u001b[0;34m:\u001b[0m \u001b[0;34m\"Henry\"\u001b[0m\u001b[0;34m,\u001b[0m \u001b[0;34m'child'\u001b[0m\u001b[0;34m:\u001b[0m \u001b[0;34m\"LittleHenry\"\u001b[0m\u001b[0;34m}\u001b[0m\u001b[0;34m,\u001b[0m\u001b[0;34m\u001b[0m\u001b[0m\n",
      "\u001b[0;31mImportError\u001b[0m: No module named quickstep"
     ],
     "output_type": "error"
    }
   ],
   "source": [
    "import quickstep as q\n",
    "\n",
    "relationships= [{'parent': \"Bob\", 'child': \"LittleBob\"},\n",
    "                {'parent': \"LittleBob\", 'child': \"LittlestBob\"},\n",
    "                {'parent': \"Henry\", 'child': \"LittleHenry\"},\n",
    "                {'parent': \"Greg\", 'child': \"LittleGreg\"},\n",
    "                ]\n",
    "try:\n",
    "    q.sql_to_table(\"CREATE TABLE parentChildRelationship (parent varchar(15), child varchar(15));\")\n",
    "except ValueError:\n",
    "    q.sql_to_table(\"DROP TABLE parentChildRelationship;\")\n",
    "    q.sql_to_table(\"CREATE TABLE parentChildRelationship (parent varchar(15), child varchar(15));\")\n",
    "\n",
    "for relation in relationships:\n",
    "    q.sql_to_table(\"INSERT INTO parentChildRelationship VALUES ('\" + relation['parent'] + \"','\" + relation['child'] + \"');\")\n",
    "\n",
    "df=q.sql_to_table(\"SELECT * FROM parentChildRelationship;\")\n",
    "print(df)"
   ]
  },
  {
   "cell_type": "code",
   "execution_count": null,
   "metadata": {},
   "outputs": [],
   "source": []
  }
 ],
 "metadata": {
  "kernelspec": {
   "display_name": "Python 2",
   "language": "python",
   "name": "python2"
  },
  "language_info": {
   "codemirror_mode": {
    "name": "ipython",
    "version": 2
   },
   "file_extension": ".py",
   "mimetype": "text/x-python",
   "name": "python",
   "nbconvert_exporter": "python",
   "pygments_lexer": "ipython2",
   "version": "2.7.6"
  }
 },
 "nbformat": 4,
 "nbformat_minor": 0
}
